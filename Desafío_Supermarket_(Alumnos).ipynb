{
  "cells": [
    {
      "cell_type": "markdown",
      "metadata": {
        "id": "view-in-github",
        "colab_type": "text"
      },
      "source": [
        "<a href=\"https://colab.research.google.com/github/sightes/COFFETALKS/blob/main/Desaf%C3%ADo_Supermarket_(Alumnos).ipynb\" target=\"_parent\"><img src=\"https://colab.research.google.com/assets/colab-badge.svg\" alt=\"Open In Colab\"/></a>"
      ]
    },
    {
      "cell_type": "code",
      "execution_count": null,
      "metadata": {
        "id": "Cn1dX783cezZ"
      },
      "outputs": [],
      "source": [
        "#Importamos las librerias\n",
        "import numpy as np\n",
        "import pandas as pd\n",
        "from matplotlib import pyplot as plt\n",
        "import seaborn as sns\n",
        "import pandas_profiling"
      ]
    },
    {
      "cell_type": "code",
      "execution_count": null,
      "metadata": {
        "id": "Zq1DCQ8Dcezc"
      },
      "outputs": [],
      "source": [
        "#Importemos el archivo: supermarket_sales.csv\n",
        "\n",
        "#Completar"
      ]
    },
    {
      "cell_type": "code",
      "execution_count": null,
      "metadata": {
        "id": "378DtaAucezd"
      },
      "outputs": [],
      "source": [
        "#Head del df\n",
        "\n",
        "#Completar"
      ]
    },
    {
      "cell_type": "code",
      "execution_count": null,
      "metadata": {
        "id": "CZKEMapUcezd"
      },
      "outputs": [],
      "source": [
        "#Veamos el shape\n",
        "\n",
        "#Completar"
      ]
    },
    {
      "cell_type": "code",
      "execution_count": null,
      "metadata": {
        "id": "Aw5-NSADceze"
      },
      "outputs": [],
      "source": [
        "#Totalidad de registros por columnas\n",
        "\n",
        "#Completar"
      ]
    },
    {
      "cell_type": "code",
      "execution_count": null,
      "metadata": {
        "id": "jT25FtR4ceze"
      },
      "outputs": [],
      "source": [
        "#Tipo de dato de cada columna\n",
        "\n",
        "#Completar"
      ]
    },
    {
      "cell_type": "code",
      "execution_count": null,
      "metadata": {
        "id": "6hOllhbkcezf"
      },
      "outputs": [],
      "source": [
        "#Principales medidas estadisticas\n",
        "\n",
        "#Completar"
      ]
    },
    {
      "cell_type": "code",
      "execution_count": null,
      "metadata": {
        "id": "DCi_VG9-cezg"
      },
      "outputs": [],
      "source": [
        "#Data Profiling\n",
        "\n",
        "#Completar"
      ]
    },
    {
      "cell_type": "markdown",
      "metadata": {
        "id": "5M85gBUkcezh"
      },
      "source": [
        "Ahora bien, a través del uso del Análisis Bivariado, trataremos de responder una serie de preguntas de negocio."
      ]
    },
    {
      "cell_type": "markdown",
      "metadata": {
        "id": "6-ZlMbIecezj"
      },
      "source": [
        "1. ¿Los ingresos brutos afectan las calificaciones que brindan los clientes?"
      ]
    },
    {
      "cell_type": "markdown",
      "metadata": {
        "id": "KRGrcqULcezk"
      },
      "source": [
        "Podemos usar el diagrama de dispersión para responder a esta pregunta."
      ]
    },
    {
      "cell_type": "code",
      "execution_count": null,
      "metadata": {
        "id": "uZgMv7nqcezl"
      },
      "outputs": [],
      "source": [
        "#Las variables a utilizar son: Rating y gross income\n",
        "\n",
        "#Completar"
      ]
    },
    {
      "cell_type": "markdown",
      "metadata": {
        "id": "-4XBx3jGcezm"
      },
      "source": [
        "**Respuesta**: Completar."
      ]
    },
    {
      "cell_type": "markdown",
      "metadata": {
        "id": "h8poawlMcezm"
      },
      "source": [
        "2. ¿Qué rama es la más rentable?"
      ]
    },
    {
      "cell_type": "code",
      "execution_count": null,
      "metadata": {
        "id": "i0SjXelVcezn"
      },
      "outputs": [],
      "source": [
        "#Las variables a utilizar son: Branch y gross income\n",
        "\n",
        "#Completar"
      ]
    },
    {
      "cell_type": "markdown",
      "metadata": {
        "id": "Ek6wc8rlcezn"
      },
      "source": [
        "**Respuesta**: Completar."
      ]
    },
    {
      "cell_type": "markdown",
      "metadata": {
        "id": "rWowhF5ycezo"
      },
      "source": [
        "3. ¿Existe alguna relación entre género e ingreso bruto?"
      ]
    },
    {
      "cell_type": "markdown",
      "metadata": {
        "id": "5uztZ9Abcezo"
      },
      "source": [
        "De manera similar al análisis anterior, podemos usar un diagrama de caja para responder a esta pregunta."
      ]
    },
    {
      "cell_type": "code",
      "execution_count": null,
      "metadata": {
        "id": "nXMuoaRgcezp"
      },
      "outputs": [],
      "source": [
        "#Las variables a utilizar son: Gender y gross income\n",
        "\n",
        "#Completar"
      ]
    },
    {
      "cell_type": "markdown",
      "metadata": {
        "id": "Rmq94k_ecezp"
      },
      "source": [
        "**Respuesta** : Completar."
      ]
    },
    {
      "cell_type": "markdown",
      "metadata": {
        "id": "TBK6paF3cezq"
      },
      "source": [
        "4. ¿Qué línea de productos genera más ingresos?"
      ]
    },
    {
      "cell_type": "code",
      "execution_count": null,
      "metadata": {
        "id": "6zdL7yyycezq"
      },
      "outputs": [],
      "source": [
        "#Aclaración: Se deberá descomentar el código comentado para la realización del ejercicio.\n",
        "\n",
        "#cat = df[[\"Product line\", \"gross income\"]].groupby(['Product line'], as_index=False).sum().sort_values(by='gross income', ascending=False)\n",
        "\n",
        "#plt.figure(figsize=(20,8))\n",
        "\n",
        "#Completar con un barplot de seaborn entre x='Product line' e y='gross income'"
      ]
    },
    {
      "cell_type": "markdown",
      "metadata": {
        "id": "RIWpDqu-cezr"
      },
      "source": [
        "**Respuesta** : Completar."
      ]
    }
  ],
  "metadata": {
    "kernelspec": {
      "display_name": "Python 3",
      "language": "python",
      "name": "python3"
    },
    "language_info": {
      "codemirror_mode": {
        "name": "ipython",
        "version": 3
      },
      "file_extension": ".py",
      "mimetype": "text/x-python",
      "name": "python",
      "nbconvert_exporter": "python",
      "pygments_lexer": "ipython3",
      "version": "3.8.5"
    },
    "varInspector": {
      "cols": {
        "lenName": 16,
        "lenType": 16,
        "lenVar": 40
      },
      "kernels_config": {
        "python": {
          "delete_cmd_postfix": "",
          "delete_cmd_prefix": "del ",
          "library": "var_list.py",
          "varRefreshCmd": "print(var_dic_list())"
        },
        "r": {
          "delete_cmd_postfix": ") ",
          "delete_cmd_prefix": "rm(",
          "library": "var_list.r",
          "varRefreshCmd": "cat(var_dic_list()) "
        }
      },
      "types_to_exclude": [
        "module",
        "function",
        "builtin_function_or_method",
        "instance",
        "_Feature"
      ],
      "window_display": false
    },
    "colab": {
      "name": "Desafío - Supermarket (Alumnos).ipynb",
      "provenance": [],
      "include_colab_link": true
    }
  },
  "nbformat": 4,
  "nbformat_minor": 0
}