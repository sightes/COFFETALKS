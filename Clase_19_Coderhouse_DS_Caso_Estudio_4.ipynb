{
  "nbformat": 4,
  "nbformat_minor": 0,
  "metadata": {
    "colab": {
      "name": "Clase 19 Coderhouse DS: Caso Estudio 4",
      "provenance": [],
      "authorship_tag": "ABX9TyNtxHDRNR6WteWQEuNTFg+s",
      "include_colab_link": true
    },
    "kernelspec": {
      "name": "python3",
      "display_name": "Python 3"
    },
    "language_info": {
      "name": "python"
    }
  },
  "cells": [
    {
      "cell_type": "markdown",
      "metadata": {
        "id": "view-in-github",
        "colab_type": "text"
      },
      "source": [
        "<a href=\"https://colab.research.google.com/github/sightes/COFFETALKS/blob/main/Clase_19_Coderhouse_DS_Caso_Estudio_4.ipynb\" target=\"_parent\"><img src=\"https://colab.research.google.com/assets/colab-badge.svg\" alt=\"Open In Colab\"/></a>"
      ]
    },
    {
      "cell_type": "code",
      "execution_count": null,
      "metadata": {
        "colab": {
          "base_uri": "https://localhost:8080/"
        },
        "id": "bdgElv7d7Ya0",
        "outputId": "d95cb579-6c76-43b9-a2d5-2a2958b151fc"
      },
      "outputs": [
        {
          "output_type": "stream",
          "name": "stdout",
          "text": [
            "--2022-01-18 03:04:44--  https://drive.google.com/u/2/uc?id=1jJmet47e7jH9ilo8L48XkDp7MiJqvB-M&export=download\n",
            "Resolving drive.google.com (drive.google.com)... 74.125.129.101, 74.125.129.100, 74.125.129.138, ...\n",
            "Connecting to drive.google.com (drive.google.com)|74.125.129.101|:443... connected.\n",
            "HTTP request sent, awaiting response... 302 Moved Temporarily\n",
            "Location: https://doc-0o-30-docs.googleusercontent.com/docs/securesc/ha0ro937gcuc7l7deffksulhg5h7mbp1/beiu6udc6n5ucknn95ph12mphv247r9g/1642475025000/18340134811011616317/*/1jJmet47e7jH9ilo8L48XkDp7MiJqvB-M?e=download [following]\n",
            "Warning: wildcards not supported in HTTP.\n",
            "--2022-01-18 03:04:44--  https://doc-0o-30-docs.googleusercontent.com/docs/securesc/ha0ro937gcuc7l7deffksulhg5h7mbp1/beiu6udc6n5ucknn95ph12mphv247r9g/1642475025000/18340134811011616317/*/1jJmet47e7jH9ilo8L48XkDp7MiJqvB-M?e=download\n",
            "Resolving doc-0o-30-docs.googleusercontent.com (doc-0o-30-docs.googleusercontent.com)... 209.85.147.132, 2607:f8b0:4001:c20::84\n",
            "Connecting to doc-0o-30-docs.googleusercontent.com (doc-0o-30-docs.googleusercontent.com)|209.85.147.132|:443... connected.\n",
            "HTTP request sent, awaiting response... 200 OK\n",
            "Length: 3759647 (3.6M) [text/csv]\n",
            "Saving to: ‘HRAnalytics.csv’\n",
            "\n",
            "HRAnalytics.csv     100%[===================>]   3.58M  --.-KB/s    in 0.02s   \n",
            "\n",
            "2022-01-18 03:04:45 (160 MB/s) - ‘HRAnalytics.csv’ saved [3759647/3759647]\n",
            "\n"
          ]
        }
      ],
      "source": [
        "!wget \"https://drive.google.com/u/2/uc?id=1jJmet47e7jH9ilo8L48XkDp7MiJqvB-M&export=download\" -O HRAnalytics.csv\n",
        "\n",
        "\n",
        "#https://www.kaggle.com/shivan118/hranalysis"
      ]
    },
    {
      "cell_type": "code",
      "source": [
        "import pandas as pd\n",
        "import warnings\n",
        "import numpy as np\n",
        "import matplotlib.pyplot as plt\n",
        "import seaborn as sns\n",
        "from sklearn.model_selection import train_test_split\n",
        "from sklearn.preprocessing import StandardScaler\n",
        "from sklearn.linear_model import LogisticRegression\n",
        "from sklearn.ensemble import RandomForestClassifier\n",
        "from sklearn.metrics import accuracy_score, confusion_matrix, roc_auc_score, ConfusionMatrixDisplay, precision_score, recall_score, f1_score, classification_report, roc_curve, plot_roc_curve, auc, precision_recall_curve, plot_precision_recall_curve, average_precision_score\n",
        "from sklearn.model_selection import cross_val_score\n",
        "from imblearn.over_sampling import SMOTE, ADASYN, BorderlineSMOTE, SVMSMOTE, RandomOverSampler\n",
        "warnings.filterwarnings(\"ignore\")\n",
        "df=pd.read_csv('HRAnalytics.csv',sep=',')\n",
        "# filling missing values in train data\n",
        "df[\"education\"].fillna(df[\"education\"].mode()[0],inplace=True)\n",
        "df[\"previous_year_rating\"].fillna(1,inplace=True)\n",
        "# removing the employee_id column because it's useless in our data\n",
        "df=df.drop([\"employee_id\"],axis=1)\n",
        "df = pd.get_dummies(df)\n",
        "x=df.drop(\"is_promoted\",axis=1)\n",
        "y=df[\"is_promoted\"]\n",
        "x_train, x_test, y_train, y_test = train_test_split(x, y, test_size=0.2, random_state=42)\n"
      ],
      "metadata": {
        "id": "SbUYe6h8CcK6"
      },
      "execution_count": null,
      "outputs": []
    },
    {
      "cell_type": "code",
      "source": [
        ""
      ],
      "metadata": {
        "id": "cJVV3puNJPc_"
      },
      "execution_count": null,
      "outputs": []
    },
    {
      "cell_type": "code",
      "source": [
        "\n",
        "def apply_model(model1):\n",
        "    model = model1\n",
        "    model.fit(x_train, y_train)\n",
        "    y_pred = model.predict(x_test)\n",
        "    score = cross_val_score(model, x_train, y_train, cv = 6)\n",
        "    precision = precision_score(y_test, y_pred)\n",
        "    roc = roc_auc_score(y_test, y_pred)\n",
        "    recall = recall_score(y_test, y_pred)\n",
        "    cm = confusion_matrix(y_test, y_pred)\n",
        "    print ('Train score of '+str(model1)[:-2]+' is', score.mean(),'%')\n",
        "    print ('Precision score is ', precision)\n",
        "    #print ('ROC Score is', roc)\n",
        "    #print ('Recall Score is ', recall)\n",
        "    print ('Confusion Matrix\\n\\n', cm)\n",
        "\n",
        "print('Resultado Regresion logistica')\n",
        "apply_model(LogisticRegression())\n",
        "print('--')\n",
        "print('Resultado Random Forest')\n",
        "apply_model(RandomForestClassifier())"
      ],
      "metadata": {
        "colab": {
          "base_uri": "https://localhost:8080/"
        },
        "id": "pEB-URxRFYnx",
        "outputId": "628e1d9b-de0a-4918-f311-2fdaeca60206"
      },
      "execution_count": null,
      "outputs": [
        {
          "output_type": "stream",
          "name": "stdout",
          "text": [
            "Resultado Regresion logistica\n",
            "Train score of LogisticRegression is 0.9210873807015673 %\n",
            "Precision score is  0.6352941176470588\n",
            "Confusion Matrix\n",
            "\n",
            " [[9961   93]\n",
            " [ 746  162]]\n",
            "--\n",
            "Resultado Random Forest\n",
            "Train score of RandomForestClassifier is 0.9331295594792337 %\n",
            "Precision score is  0.8227848101265823\n",
            "Confusion Matrix\n",
            "\n",
            " [[9998   56]\n",
            " [ 648  260]]\n"
          ]
        }
      ]
    }
  ]
}