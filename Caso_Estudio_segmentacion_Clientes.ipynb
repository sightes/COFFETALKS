{
  "nbformat": 4,
  "nbformat_minor": 0,
  "metadata": {
    "colab": {
      "name": " Caso Estudio segmentacion Clientes.ipynb",
      "provenance": [],
      "authorship_tag": "ABX9TyOQkryF41MCPVdWvbQYOf/R",
      "include_colab_link": true
    },
    "kernelspec": {
      "name": "python3",
      "display_name": "Python 3"
    },
    "language_info": {
      "name": "python"
    }
  },
  "cells": [
    {
      "cell_type": "markdown",
      "metadata": {
        "id": "view-in-github",
        "colab_type": "text"
      },
      "source": [
        "<a href=\"https://colab.research.google.com/github/sightes/COFFETALKS/blob/main/Caso_Estudio_segmentacion_Clientes.ipynb\" target=\"_parent\"><img src=\"https://colab.research.google.com/assets/colab-badge.svg\" alt=\"Open In Colab\"/></a>"
      ]
    },
    {
      "cell_type": "markdown",
      "source": [
        "This is customer data containing 5 variables:\n",
        "\n",
        "\n",
        "*   CustomerID\n",
        "*   Gender\n",
        "*   Age\n",
        "*   Annual income (k$)\n",
        "*   Spending score (1-100)\n",
        "\n",
        "Segmentar perfiles de clientes de manera de poder ofrecer ofertas focalizadas"
      ],
      "metadata": {
        "id": "V1kAXdU4medt"
      }
    },
    {
      "cell_type": "code",
      "execution_count": 3,
      "metadata": {
        "colab": {
          "base_uri": "https://localhost:8080/"
        },
        "id": "5Ym9m-_SmcFd",
        "outputId": "d1daadaa-fb8e-4b05-8f8c-a20e70d7ac35"
      },
      "outputs": [
        {
          "output_type": "stream",
          "name": "stdout",
          "text": [
            "--2022-01-20 22:33:00--  https://raw.githubusercontent.com/sightes/COFFETALKS/main/Mall_Customers.csv\n",
            "Resolving raw.githubusercontent.com (raw.githubusercontent.com)... 185.199.108.133, 185.199.109.133, 185.199.110.133, ...\n",
            "Connecting to raw.githubusercontent.com (raw.githubusercontent.com)|185.199.108.133|:443... connected.\n",
            "HTTP request sent, awaiting response... 200 OK\n",
            "Length: 3780 (3.7K) [text/plain]\n",
            "Saving to: ‘Mall_Customers.csv’\n",
            "\n",
            "\rMall_Customers.csv    0%[                    ]       0  --.-KB/s               \rMall_Customers.csv  100%[===================>]   3.69K  --.-KB/s    in 0s      \n",
            "\n",
            "2022-01-20 22:33:00 (28.9 MB/s) - ‘Mall_Customers.csv’ saved [3780/3780]\n",
            "\n"
          ]
        }
      ],
      "source": [
        "#Descargamos los datos desde el Drive\n",
        "!wget \"https://raw.githubusercontent.com/sightes/COFFETALKS/main/Mall_Customers.csv\" -O Mall_Customers.csv"
      ]
    }
  ]
}