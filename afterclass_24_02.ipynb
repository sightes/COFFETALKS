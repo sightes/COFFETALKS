{
  "nbformat": 4,
  "nbformat_minor": 0,
  "metadata": {
    "colab": {
      "name": "afterclass 24-02",
      "provenance": [],
      "mount_file_id": "13jiw-xBxEVtRBhd-BTSazS-0ASXbZ80z",
      "authorship_tag": "ABX9TyM95UXl2zl06cEyJ9UOXju5",
      "include_colab_link": true
    },
    "kernelspec": {
      "name": "python3",
      "display_name": "Python 3"
    },
    "language_info": {
      "name": "python"
    }
  },
  "cells": [
    {
      "cell_type": "markdown",
      "metadata": {
        "id": "view-in-github",
        "colab_type": "text"
      },
      "source": [
        "<a href=\"https://colab.research.google.com/github/sightes/COFFETALKS/blob/main/afterclass_24_02.ipynb\" target=\"_parent\"><img src=\"https://colab.research.google.com/assets/colab-badge.svg\" alt=\"Open In Colab\"/></a>"
      ]
    },
    {
      "cell_type": "code",
      "execution_count": 1,
      "metadata": {
        "colab": {
          "base_uri": "https://localhost:8080/"
        },
        "id": "t_qQbaNE5EcA",
        "outputId": "b697b7f9-2012-4b4f-fad8-d20127d62a71"
      },
      "outputs": [
        {
          "output_type": "stream",
          "name": "stdout",
          "text": [
            "--2022-02-24 23:03:41--  https://raw.githubusercontent.com/sightes/COFFETALKS/main/CLASE%2028%20%20data%20wrangling%20II/p_data.csv\n",
            "Resolving raw.githubusercontent.com (raw.githubusercontent.com)... 185.199.108.133, 185.199.109.133, 185.199.110.133, ...\n",
            "Connecting to raw.githubusercontent.com (raw.githubusercontent.com)|185.199.108.133|:443... connected.\n",
            "HTTP request sent, awaiting response... 200 OK\n",
            "Length: 4105795 (3.9M) [text/plain]\n",
            "Saving to: ‘p_data.csv’\n",
            "\n",
            "p_data.csv          100%[===================>]   3.92M  --.-KB/s    in 0.09s   \n",
            "\n",
            "2022-02-24 23:03:42 (44.2 MB/s) - ‘p_data.csv’ saved [4105795/4105795]\n",
            "\n",
            "--2022-02-24 23:03:42--  https://raw.githubusercontent.com/sightes/COFFETALKS/main/CLASE%2028%20%20data%20wrangling%20II/w_data.csv\n",
            "Resolving raw.githubusercontent.com (raw.githubusercontent.com)... 185.199.110.133, 185.199.111.133, 185.199.109.133, ...\n",
            "Connecting to raw.githubusercontent.com (raw.githubusercontent.com)|185.199.110.133|:443... connected.\n",
            "HTTP request sent, awaiting response... 200 OK\n",
            "Length: 2404832 (2.3M) [text/plain]\n",
            "Saving to: ‘w_data.csv’\n",
            "\n",
            "w_data.csv          100%[===================>]   2.29M  --.-KB/s    in 0.08s   \n",
            "\n",
            "2022-02-24 23:03:43 (28.3 MB/s) - ‘w_data.csv’ saved [2404832/2404832]\n",
            "\n"
          ]
        }
      ],
      "source": [
        "!wget 'https://raw.githubusercontent.com/sightes/COFFETALKS/main/CLASE%2028%20%20data%20wrangling%20II/p_data.csv'\n",
        "!wget 'https://raw.githubusercontent.com/sightes/COFFETALKS/main/CLASE%2028%20%20data%20wrangling%20II/w_data.csv'"
      ]
    },
    {
      "cell_type": "code",
      "source": [
        "import pandas as pd \n",
        "p=pd.read_csv('p_data.csv', sep=';')\n",
        "w=pd.read_csv('w_data.csv', sep=';')"
      ],
      "metadata": {
        "id": "cuLLUdb7-rKF"
      },
      "execution_count": 2,
      "outputs": []
    },
    {
      "cell_type": "code",
      "source": [
        "print('variables de p:')\n",
        "print(p.columns)\n",
        "print('variables de w:')\n",
        "print(w.columns) "
      ],
      "metadata": {
        "colab": {
          "base_uri": "https://localhost:8080/"
        },
        "id": "ioSsNpOB-8Ti",
        "outputId": "362ccae3-8c2b-4a07-91e0-31551658aa3f"
      },
      "execution_count": 5,
      "outputs": [
        {
          "output_type": "stream",
          "name": "stdout",
          "text": [
            "variables de p:\n",
            "Index(['Age', 'Sex', 'ID', 'Race', 'Country', 'Education', 'Education-Num',\n",
            "       'Marital Status', 'Relationship'],\n",
            "      dtype='object')\n",
            "variables de w:\n",
            "Index(['Workclass', 'fnlwgt', 'Capital Gain', 'Capital Loss', 'Hours per week',\n",
            "       'ID', 'Target'],\n",
            "      dtype='object')\n"
          ]
        }
      ]
    },
    {
      "cell_type": "code",
      "source": [
        "print(p.nunique())\n",
        "\n",
        "print('total filas:' + str(len(p)))"
      ],
      "metadata": {
        "colab": {
          "base_uri": "https://localhost:8080/"
        },
        "id": "_8VYitN5_RP6",
        "outputId": "9d13e8e2-aca4-4466-a5cd-b8cb0772827c"
      },
      "execution_count": 12,
      "outputs": [
        {
          "output_type": "stream",
          "name": "stdout",
          "text": [
            "Age                  74\n",
            "Sex                   2\n",
            "ID                48842\n",
            "Race                  5\n",
            "Country              42\n",
            "Education            16\n",
            "Education-Num        16\n",
            "Marital Status        7\n",
            "Relationship          6\n",
            "dtype: int64\n",
            "total filas:48842\n"
          ]
        }
      ]
    },
    {
      "cell_type": "code",
      "source": [
        "print(w.nunique())\n",
        "\n",
        "print('total filas:' + str(len(w)))"
      ],
      "metadata": {
        "colab": {
          "base_uri": "https://localhost:8080/"
        },
        "id": "q4T64G-h_ivS",
        "outputId": "cd708f5a-dd0c-470b-f3c8-3c40609e2314"
      },
      "execution_count": 13,
      "outputs": [
        {
          "output_type": "stream",
          "name": "stdout",
          "text": [
            "Workclass             9\n",
            "fnlwgt            28523\n",
            "Capital Gain        123\n",
            "Capital Loss         99\n",
            "Hours per week       96\n",
            "ID                48843\n",
            "Target                4\n",
            "dtype: int64\n",
            "total filas:48843\n"
          ]
        }
      ]
    },
    {
      "cell_type": "code",
      "source": [
        "print('nulos variable ID en p : ' + str(p.ID.isnull().sum()))\n",
        "print('nulos variable ID en w : ' + str(w.ID.isnull().sum()))"
      ],
      "metadata": {
        "colab": {
          "base_uri": "https://localhost:8080/"
        },
        "id": "usl7CaJEALm2",
        "outputId": "d0fe49c3-bf3d-4d9e-90ea-38e942063b9f"
      },
      "execution_count": 19,
      "outputs": [
        {
          "output_type": "stream",
          "name": "stdout",
          "text": [
            "nulos en p : 0\n",
            "nulos en w : 0\n"
          ]
        }
      ]
    },
    {
      "cell_type": "code",
      "source": [
        "#opcion con numpy\n",
        "import numpy as np\n",
        "#busca los valores en comun p->w\n",
        "np.where(np.isin(p.ID, w.ID ))\n",
        "\n",
        "#busca lo que no tienen en comun p->w\n",
        "np.where((np.isin(p.ID, w.ID )*1)==0)\n",
        "\n",
        "#busca los valores en comun p->w\n",
        "np.where(np.isin(w.ID, p.ID ))\n",
        "\n",
        "#busca lo que no tienen en comun p->w\n",
        "np.where((np.isin(w.ID, p.ID )*1)==0)"
      ],
      "metadata": {
        "colab": {
          "base_uri": "https://localhost:8080/"
        },
        "id": "yyANA-lJAvvU",
        "outputId": "6afdd94f-aa86-4d9f-f86e-728b4d0fcab8"
      },
      "execution_count": 30,
      "outputs": [
        {
          "output_type": "execute_result",
          "data": {
            "text/plain": [
              "(array([48842]),)"
            ]
          },
          "metadata": {},
          "execution_count": 30
        }
      ]
    },
    {
      "cell_type": "code",
      "source": [
        "w.iloc[48842]"
      ],
      "metadata": {
        "colab": {
          "base_uri": "https://localhost:8080/"
        },
        "id": "KR3zJaSTBe-u",
        "outputId": "4e15aa41-9297-448a-d81c-402919eafa36"
      },
      "execution_count": 31,
      "outputs": [
        {
          "output_type": "execute_result",
          "data": {
            "text/plain": [
              "Workclass          Self-emp-inc\n",
              "fnlwgt                 182148.0\n",
              "Capital Gain                0.0\n",
              "Capital Loss                0.0\n",
              "Hours per week             60.0\n",
              "ID                   1344995623\n",
              "Target                    >50K.\n",
              "Name: 48842, dtype: object"
            ]
          },
          "metadata": {},
          "execution_count": 31
        }
      ]
    },
    {
      "cell_type": "code",
      "source": [
        "#opcion con pandas \n",
        "p.index=p['ID'].values\n",
        "w.index=w['ID'].values\n",
        "union=w.join(p,how='outer', lsuffix='_w', rsuffix='_p')\n",
        "union.iloc[np.where(union.ID_w!=union.ID_p)[0][0]]"
      ],
      "metadata": {
        "id": "KWqm_vx6CWC1"
      },
      "execution_count": 51,
      "outputs": []
    },
    {
      "cell_type": "code",
      "source": [
        "agrupado=union.groupby('Target')"
      ],
      "metadata": {
        "id": "8QICTGkvFk-z"
      },
      "execution_count": 65,
      "outputs": []
    },
    {
      "cell_type": "code",
      "source": [
        "agrupado.Target.count()"
      ],
      "metadata": {
        "colab": {
          "base_uri": "https://localhost:8080/"
        },
        "id": "9qBkhHgVF5SH",
        "outputId": "66c491a5-0495-436c-cc6a-ec0d061a3269"
      },
      "execution_count": 66,
      "outputs": [
        {
          "output_type": "execute_result",
          "data": {
            "text/plain": [
              "Target\n",
              " <=50K     24720\n",
              " <=50K.    12435\n",
              " >50K       7841\n",
              " >50K.      3846\n",
              "Name: Target, dtype: int64"
            ]
          },
          "metadata": {},
          "execution_count": 66
        }
      ]
    },
    {
      "cell_type": "code",
      "source": [
        "union.dtypes"
      ],
      "metadata": {
        "colab": {
          "base_uri": "https://localhost:8080/"
        },
        "id": "gq4QtBu6GHFr",
        "outputId": "9887e31f-1512-49c5-a0af-efe2a9fa3dde"
      },
      "execution_count": 70,
      "outputs": [
        {
          "output_type": "execute_result",
          "data": {
            "text/plain": [
              "Workclass          object\n",
              "fnlwgt            float64\n",
              "Capital Gain      float64\n",
              "Capital Loss      float64\n",
              "Hours per week    float64\n",
              "ID_w                int64\n",
              "Target             object\n",
              "Age               float64\n",
              "Sex                object\n",
              "ID_p              float64\n",
              "Race               object\n",
              "Country            object\n",
              "Education          object\n",
              "Education-Num     float64\n",
              "Marital Status     object\n",
              "Relationship       object\n",
              "dtype: object"
            ]
          },
          "metadata": {},
          "execution_count": 70
        }
      ]
    },
    {
      "cell_type": "code",
      "source": [
        "union['Target']=union.Target.str.replace('.','').values"
      ],
      "metadata": {
        "colab": {
          "base_uri": "https://localhost:8080/"
        },
        "id": "Bp7ZF6NrGYDL",
        "outputId": "508d9fbe-22e6-41a8-8763-1e930bff0f88"
      },
      "execution_count": 75,
      "outputs": [
        {
          "output_type": "stream",
          "name": "stderr",
          "text": [
            "/usr/local/lib/python3.7/dist-packages/ipykernel_launcher.py:1: FutureWarning: The default value of regex will change from True to False in a future version. In addition, single character regular expressions will *not* be treated as literal strings when regex=True.\n",
            "  \"\"\"Entry point for launching an IPython kernel.\n"
          ]
        }
      ]
    },
    {
      "cell_type": "code",
      "source": [
        "agrupado=union.groupby('Target')\n",
        "agrupado.Target.count()"
      ],
      "metadata": {
        "colab": {
          "base_uri": "https://localhost:8080/"
        },
        "id": "QGCM2lXLG8kI",
        "outputId": "ee67671f-c7d4-4070-f1f9-c6cbf15c1b09"
      },
      "execution_count": 77,
      "outputs": [
        {
          "output_type": "execute_result",
          "data": {
            "text/plain": [
              "Target\n",
              " <=50K    37155\n",
              " >50K     11687\n",
              "Name: Target, dtype: int64"
            ]
          },
          "metadata": {},
          "execution_count": 77
        }
      ]
    },
    {
      "cell_type": "code",
      "source": [
        "#opcion usando apply \n",
        "def target_corregido(a):\n",
        "  b=a.replace('.','')\n",
        "  return(b)\n",
        "df2=pd.DataFrame(union.Target).apply(target_corregido)\n",
        "union['Target']=df2.values\n"
      ],
      "metadata": {
        "id": "ZoBD54x1HqI1"
      },
      "execution_count": 83,
      "outputs": []
    },
    {
      "cell_type": "code",
      "source": [
        "#opcion 1\n",
        "###np.isin(union.Target.values,[' >50K'])\n",
        "#opcion 2\n",
        "###union.Target==' >50K'\n",
        "a=union.iloc[np.where(union.Target==' >50K')]"
      ],
      "metadata": {
        "id": "vnKn9XhvIU5y"
      },
      "execution_count": 94,
      "outputs": []
    },
    {
      "cell_type": "code",
      "source": [
        "proporcion=len(a)/len(union)\n",
        "print('proporcion = ' + str(np.round(proporcion*100)) + '%' )"
      ],
      "metadata": {
        "colab": {
          "base_uri": "https://localhost:8080/"
        },
        "id": "bzSJvuCSI89G",
        "outputId": "317c33de-e1a7-4a59-c164-6e0e7ecbb9f3"
      },
      "execution_count": 98,
      "outputs": [
        {
          "output_type": "stream",
          "name": "stdout",
          "text": [
            "proporcion = 24.0%\n"
          ]
        }
      ]
    },
    {
      "cell_type": "code",
      "source": [
        "a.groupby('Sex').Target.count()"
      ],
      "metadata": {
        "colab": {
          "base_uri": "https://localhost:8080/"
        },
        "id": "M12kYzqCJCXM",
        "outputId": "414e6fc3-3dba-4bfb-c3c7-2289e659333e"
      },
      "execution_count": 101,
      "outputs": [
        {
          "output_type": "execute_result",
          "data": {
            "text/plain": [
              "Sex\n",
              " Female    1769\n",
              " Male      9917\n",
              "Name: Target, dtype: int64"
            ]
          },
          "metadata": {},
          "execution_count": 101
        }
      ]
    },
    {
      "cell_type": "code",
      "source": [
        ""
      ],
      "metadata": {
        "id": "l-lGaHPxL75W"
      },
      "execution_count": null,
      "outputs": []
    },
    {
      "cell_type": "code",
      "source": [
        "b=pd.DataFrame(a.groupby('Sex').Target.count())\n",
        "b"
      ],
      "metadata": {
        "colab": {
          "base_uri": "https://localhost:8080/",
          "height": 143
        },
        "id": "b5NbeF4uKShi",
        "outputId": "bf8309da-44d9-4b37-b2ba-a5ef3adb993e"
      },
      "execution_count": 110,
      "outputs": [
        {
          "output_type": "execute_result",
          "data": {
            "text/html": [
              "\n",
              "  <div id=\"df-058c2385-fb82-4bc4-9d79-60f16077067e\">\n",
              "    <div class=\"colab-df-container\">\n",
              "      <div>\n",
              "<style scoped>\n",
              "    .dataframe tbody tr th:only-of-type {\n",
              "        vertical-align: middle;\n",
              "    }\n",
              "\n",
              "    .dataframe tbody tr th {\n",
              "        vertical-align: top;\n",
              "    }\n",
              "\n",
              "    .dataframe thead th {\n",
              "        text-align: right;\n",
              "    }\n",
              "</style>\n",
              "<table border=\"1\" class=\"dataframe\">\n",
              "  <thead>\n",
              "    <tr style=\"text-align: right;\">\n",
              "      <th></th>\n",
              "      <th>Target</th>\n",
              "    </tr>\n",
              "    <tr>\n",
              "      <th>Sex</th>\n",
              "      <th></th>\n",
              "    </tr>\n",
              "  </thead>\n",
              "  <tbody>\n",
              "    <tr>\n",
              "      <th>Female</th>\n",
              "      <td>1769</td>\n",
              "    </tr>\n",
              "    <tr>\n",
              "      <th>Male</th>\n",
              "      <td>9917</td>\n",
              "    </tr>\n",
              "  </tbody>\n",
              "</table>\n",
              "</div>\n",
              "      <button class=\"colab-df-convert\" onclick=\"convertToInteractive('df-058c2385-fb82-4bc4-9d79-60f16077067e')\"\n",
              "              title=\"Convert this dataframe to an interactive table.\"\n",
              "              style=\"display:none;\">\n",
              "        \n",
              "  <svg xmlns=\"http://www.w3.org/2000/svg\" height=\"24px\"viewBox=\"0 0 24 24\"\n",
              "       width=\"24px\">\n",
              "    <path d=\"M0 0h24v24H0V0z\" fill=\"none\"/>\n",
              "    <path d=\"M18.56 5.44l.94 2.06.94-2.06 2.06-.94-2.06-.94-.94-2.06-.94 2.06-2.06.94zm-11 1L8.5 8.5l.94-2.06 2.06-.94-2.06-.94L8.5 2.5l-.94 2.06-2.06.94zm10 10l.94 2.06.94-2.06 2.06-.94-2.06-.94-.94-2.06-.94 2.06-2.06.94z\"/><path d=\"M17.41 7.96l-1.37-1.37c-.4-.4-.92-.59-1.43-.59-.52 0-1.04.2-1.43.59L10.3 9.45l-7.72 7.72c-.78.78-.78 2.05 0 2.83L4 21.41c.39.39.9.59 1.41.59.51 0 1.02-.2 1.41-.59l7.78-7.78 2.81-2.81c.8-.78.8-2.07 0-2.86zM5.41 20L4 18.59l7.72-7.72 1.47 1.35L5.41 20z\"/>\n",
              "  </svg>\n",
              "      </button>\n",
              "      \n",
              "  <style>\n",
              "    .colab-df-container {\n",
              "      display:flex;\n",
              "      flex-wrap:wrap;\n",
              "      gap: 12px;\n",
              "    }\n",
              "\n",
              "    .colab-df-convert {\n",
              "      background-color: #E8F0FE;\n",
              "      border: none;\n",
              "      border-radius: 50%;\n",
              "      cursor: pointer;\n",
              "      display: none;\n",
              "      fill: #1967D2;\n",
              "      height: 32px;\n",
              "      padding: 0 0 0 0;\n",
              "      width: 32px;\n",
              "    }\n",
              "\n",
              "    .colab-df-convert:hover {\n",
              "      background-color: #E2EBFA;\n",
              "      box-shadow: 0px 1px 2px rgba(60, 64, 67, 0.3), 0px 1px 3px 1px rgba(60, 64, 67, 0.15);\n",
              "      fill: #174EA6;\n",
              "    }\n",
              "\n",
              "    [theme=dark] .colab-df-convert {\n",
              "      background-color: #3B4455;\n",
              "      fill: #D2E3FC;\n",
              "    }\n",
              "\n",
              "    [theme=dark] .colab-df-convert:hover {\n",
              "      background-color: #434B5C;\n",
              "      box-shadow: 0px 1px 3px 1px rgba(0, 0, 0, 0.15);\n",
              "      filter: drop-shadow(0px 1px 2px rgba(0, 0, 0, 0.3));\n",
              "      fill: #FFFFFF;\n",
              "    }\n",
              "  </style>\n",
              "\n",
              "      <script>\n",
              "        const buttonEl =\n",
              "          document.querySelector('#df-058c2385-fb82-4bc4-9d79-60f16077067e button.colab-df-convert');\n",
              "        buttonEl.style.display =\n",
              "          google.colab.kernel.accessAllowed ? 'block' : 'none';\n",
              "\n",
              "        async function convertToInteractive(key) {\n",
              "          const element = document.querySelector('#df-058c2385-fb82-4bc4-9d79-60f16077067e');\n",
              "          const dataTable =\n",
              "            await google.colab.kernel.invokeFunction('convertToInteractive',\n",
              "                                                     [key], {});\n",
              "          if (!dataTable) return;\n",
              "\n",
              "          const docLinkHtml = 'Like what you see? Visit the ' +\n",
              "            '<a target=\"_blank\" href=https://colab.research.google.com/notebooks/data_table.ipynb>data table notebook</a>'\n",
              "            + ' to learn more about interactive tables.';\n",
              "          element.innerHTML = '';\n",
              "          dataTable['output_type'] = 'display_data';\n",
              "          await google.colab.output.renderOutput(dataTable, element);\n",
              "          const docLink = document.createElement('div');\n",
              "          docLink.innerHTML = docLinkHtml;\n",
              "          element.appendChild(docLink);\n",
              "        }\n",
              "      </script>\n",
              "    </div>\n",
              "  </div>\n",
              "  "
            ],
            "text/plain": [
              "         Target\n",
              "Sex            \n",
              " Female    1769\n",
              " Male      9917"
            ]
          },
          "metadata": {},
          "execution_count": 110
        }
      ]
    },
    {
      "cell_type": "code",
      "source": [
        "b.iloc[0].values[0]/len(union)"
      ],
      "metadata": {
        "colab": {
          "base_uri": "https://localhost:8080/"
        },
        "id": "iKJM3U3PKqJY",
        "outputId": "786789a4-7329-4000-c44b-ddbe69c7164f"
      },
      "execution_count": 115,
      "outputs": [
        {
          "output_type": "execute_result",
          "data": {
            "text/plain": [
              "0.0362180865221219"
            ]
          },
          "metadata": {},
          "execution_count": 115
        }
      ]
    },
    {
      "cell_type": "code",
      "source": [
        "b.loc[' Female'].values[0]/len(union)"
      ],
      "metadata": {
        "colab": {
          "base_uri": "https://localhost:8080/"
        },
        "id": "gzJ8dk0jLGFx",
        "outputId": "b6430bfc-cb29-48e1-9feb-482bcb23e88d"
      },
      "execution_count": 123,
      "outputs": [
        {
          "output_type": "execute_result",
          "data": {
            "text/plain": [
              "0.0362180865221219"
            ]
          },
          "metadata": {},
          "execution_count": 123
        }
      ]
    },
    {
      "cell_type": "code",
      "source": [
        "b.loc[' Male'].values[0]/len(union)"
      ],
      "metadata": {
        "colab": {
          "base_uri": "https://localhost:8080/"
        },
        "id": "eaI6DqJ3Ltb4",
        "outputId": "3ac2b820-ae90-4b3c-b90e-481818c0b6ef"
      },
      "execution_count": 124,
      "outputs": [
        {
          "output_type": "execute_result",
          "data": {
            "text/plain": [
              "0.20303830641033516"
            ]
          },
          "metadata": {},
          "execution_count": 124
        }
      ]
    }
  ]
}