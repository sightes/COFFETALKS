{
  "cells": [
    {
      "cell_type": "markdown",
      "metadata": {
        "id": "view-in-github",
        "colab_type": "text"
      },
      "source": [
        "<a href=\"https://colab.research.google.com/github/sightes/COFFETALKS/blob/main/Desaf%C3%ADo_Pokemon_(Alumnos).ipynb\" target=\"_parent\"><img src=\"https://colab.research.google.com/assets/colab-badge.svg\" alt=\"Open In Colab\"/></a>"
      ]
    },
    {
      "cell_type": "markdown",
      "metadata": {
        "id": "KH7As5w1mCSd"
      },
      "source": [
        "# Desafío: Pokemon.csv"
      ]
    },
    {
      "cell_type": "markdown",
      "metadata": {
        "id": "GmApeNmTmCSi"
      },
      "source": [
        "Parte 1"
      ]
    },
    {
      "cell_type": "markdown",
      "metadata": {
        "id": "qx-LXwmQmCSj"
      },
      "source": [
        "1. Importar las librerías"
      ]
    },
    {
      "cell_type": "code",
      "execution_count": null,
      "metadata": {
        "id": "1HObHzwgmCSk"
      },
      "outputs": [],
      "source": [
        "#Completar"
      ]
    },
    {
      "cell_type": "markdown",
      "metadata": {
        "id": "KhBC5SPxmCSm"
      },
      "source": [
        "2. Importar el archivo csv"
      ]
    },
    {
      "cell_type": "code",
      "execution_count": null,
      "metadata": {
        "id": "RF2-gxgrmCSn"
      },
      "outputs": [],
      "source": [
        "#Completar"
      ]
    },
    {
      "cell_type": "markdown",
      "metadata": {
        "id": "pGJspqZWmCSn"
      },
      "source": [
        "3. Analizar el shape del df"
      ]
    },
    {
      "cell_type": "code",
      "execution_count": null,
      "metadata": {
        "id": "CSEnPoFXmCSo"
      },
      "outputs": [],
      "source": [
        "#Completar"
      ]
    },
    {
      "cell_type": "markdown",
      "metadata": {
        "id": "jLj-8harmCSp"
      },
      "source": [
        "4. Obtener la totalidad de registros por columnas"
      ]
    },
    {
      "cell_type": "code",
      "execution_count": null,
      "metadata": {
        "id": "twGwW59ZmCSq"
      },
      "outputs": [],
      "source": [
        "#Completar"
      ]
    },
    {
      "cell_type": "markdown",
      "metadata": {
        "id": "F83Ob2eMmCSr"
      },
      "source": [
        "5. Analizar el tipo de dato de cada columna"
      ]
    },
    {
      "cell_type": "code",
      "execution_count": null,
      "metadata": {
        "id": "URFlXKJBmCSr"
      },
      "outputs": [],
      "source": [
        "#Completar"
      ]
    },
    {
      "cell_type": "markdown",
      "metadata": {
        "id": "UcGijui7mCSs"
      },
      "source": [
        "6. Obtener el tipo de estructura del dataset. Ej: si es o no un DataFrame"
      ]
    },
    {
      "cell_type": "code",
      "execution_count": null,
      "metadata": {
        "id": "xit9l4cZmCSs"
      },
      "outputs": [],
      "source": [
        "#Completar"
      ]
    },
    {
      "cell_type": "markdown",
      "metadata": {
        "id": "VHHhmV15mCSt"
      },
      "source": [
        "7. Listar los nombres de las columnas"
      ]
    },
    {
      "cell_type": "code",
      "execution_count": null,
      "metadata": {
        "id": "xzBaTip3mCSt"
      },
      "outputs": [],
      "source": [
        "#Completar"
      ]
    },
    {
      "cell_type": "markdown",
      "metadata": {
        "id": "xj18J5kamCSt"
      },
      "source": [
        "8. Crear un gráfico de barras con la función value_counts() sobre la variable: 'type1'"
      ]
    },
    {
      "cell_type": "code",
      "execution_count": null,
      "metadata": {
        "id": "AgStcBTVmCSu"
      },
      "outputs": [],
      "source": [
        "#Completar"
      ]
    },
    {
      "cell_type": "markdown",
      "metadata": {
        "id": "cgXg5axHmCSu"
      },
      "source": [
        "9. Crear un gráfico de líneas de la variable: 'hp', utilizando la función value_counts() y realizar un ordenamimiento poor intermedio de: sort_index()"
      ]
    },
    {
      "cell_type": "code",
      "execution_count": null,
      "metadata": {
        "id": "-eC6XaRTmCSu"
      },
      "outputs": [],
      "source": [
        "#Completar"
      ]
    },
    {
      "cell_type": "markdown",
      "metadata": {
        "id": "AHMtDGgMmCSv"
      },
      "source": [
        "10. Crear un histograma de la variable: 'weight_kg'"
      ]
    },
    {
      "cell_type": "code",
      "execution_count": null,
      "metadata": {
        "id": "McN9dn8nmCSv"
      },
      "outputs": [],
      "source": [
        "#Completar"
      ]
    },
    {
      "cell_type": "markdown",
      "metadata": {
        "id": "MG51Vti2mCSw"
      },
      "source": [
        "# Distribucion de Frecuencias\n",
        "\n",
        "Parte 2"
      ]
    },
    {
      "cell_type": "markdown",
      "metadata": {
        "id": "m2ekM87omCSw"
      },
      "source": [
        "Calcular la frecuencia absoluta, la absoluta acumulada, la frecuencia relativa y relativa acumulada para la variable: **classfication**, en base al ejemplo visto en el notebook: Ejemplo 1 - Análisis Univariado de Datos (CoderHouse) "
      ]
    }
  ],
  "metadata": {
    "kernelspec": {
      "display_name": "Python 3",
      "language": "python",
      "name": "python3"
    },
    "language_info": {
      "codemirror_mode": {
        "name": "ipython",
        "version": 3
      },
      "file_extension": ".py",
      "mimetype": "text/x-python",
      "name": "python",
      "nbconvert_exporter": "python",
      "pygments_lexer": "ipython3",
      "version": "3.8.5"
    },
    "varInspector": {
      "cols": {
        "lenName": 16,
        "lenType": 16,
        "lenVar": 40
      },
      "kernels_config": {
        "python": {
          "delete_cmd_postfix": "",
          "delete_cmd_prefix": "del ",
          "library": "var_list.py",
          "varRefreshCmd": "print(var_dic_list())"
        },
        "r": {
          "delete_cmd_postfix": ") ",
          "delete_cmd_prefix": "rm(",
          "library": "var_list.r",
          "varRefreshCmd": "cat(var_dic_list()) "
        }
      },
      "types_to_exclude": [
        "module",
        "function",
        "builtin_function_or_method",
        "instance",
        "_Feature"
      ],
      "window_display": false
    },
    "colab": {
      "name": "Desafío - Pokemon (Alumnos).ipynb",
      "provenance": [],
      "include_colab_link": true
    }
  },
  "nbformat": 4,
  "nbformat_minor": 0
}