{
 "cells": [
  {
   "cell_type": "code",
   "execution_count": 4,
   "metadata": {},
   "outputs": [
    {
     "name": "stderr",
     "output_type": "stream",
     "text": [
      "WARNING: Ignoring invalid distribution -ip (u:\\python\\lib\\site-packages)\n",
      "WARNING: Ignoring invalid distribution -ip (u:\\python\\lib\\site-packages)\n",
      "ERROR: Could not find a version that satisfies the requirement torch (from versions: none)\n",
      "ERROR: No matching distribution found for torch\n",
      "WARNING: Ignoring invalid distribution -ip (u:\\python\\lib\\site-packages)\n",
      "WARNING: Ignoring invalid distribution -ip (u:\\python\\lib\\site-packages)\n"
     ]
    }
   ],
   "source": [
    "!pip install torch"
   ]
  },
  {
   "cell_type": "code",
   "execution_count": 5,
   "metadata": {},
   "outputs": [
    {
     "name": "stdout",
     "output_type": "stream",
     "text": [
      "Collecting DALL-E\n",
      "  Using cached DALL_E-0.1-py3-none-any.whl (6.0 kB)\n",
      "Collecting torchvision\n",
      "  Using cached torchvision-0.2.2.post3-py2.py3-none-any.whl (64 kB)\n",
      "Collecting pytest\n",
      "  Downloading pytest-7.0.1-py3-none-any.whl (296 kB)\n",
      "Requirement already satisfied: Pillow in u:\\python\\lib\\site-packages (from DALL-E) (7.2.0)\n",
      "Collecting mypy\n",
      "  Using cached mypy-0.931-py3-none-any.whl (2.4 MB)\n",
      "Requirement already satisfied: numpy in u:\\python\\lib\\site-packages (from DALL-E) (1.18.1)\n",
      "Requirement already satisfied: requests in u:\\python\\lib\\site-packages (from DALL-E) (2.23.0)\n"
     ]
    },
    {
     "name": "stderr",
     "output_type": "stream",
     "text": [
      "WARNING: Ignoring invalid distribution -ip (u:\\python\\lib\\site-packages)\n",
      "WARNING: Ignoring invalid distribution -ip (u:\\python\\lib\\site-packages)\n",
      "ERROR: Could not find a version that satisfies the requirement torch (from dall-e) (from versions: none)\n",
      "ERROR: No matching distribution found for torch\n",
      "WARNING: Ignoring invalid distribution -ip (u:\\python\\lib\\site-packages)\n",
      "WARNING: Ignoring invalid distribution -ip (u:\\python\\lib\\site-packages)\n"
     ]
    }
   ],
   "source": [
    "!pip3 install DALL-E"
   ]
  }
 ],
 "metadata": {
  "interpreter": {
   "hash": "a527597b6ce441dd723db7e5b84154497f79d3f7cebc6c6c692410c0fa80b6a5"
  },
  "kernelspec": {
   "display_name": "Python 3.6.8 32-bit",
   "language": "python",
   "name": "python3"
  },
  "language_info": {
   "codemirror_mode": {
    "name": "ipython",
    "version": 3
   },
   "file_extension": ".py",
   "mimetype": "text/x-python",
   "name": "python",
   "nbconvert_exporter": "python",
   "pygments_lexer": "ipython3",
   "version": "3.6.8"
  },
  "orig_nbformat": 4
 },
 "nbformat": 4,
 "nbformat_minor": 2
}
