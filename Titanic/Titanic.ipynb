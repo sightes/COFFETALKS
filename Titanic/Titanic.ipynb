{
 "cells": [
  {
   "cell_type": "markdown",
   "metadata": {},
   "source": [
    "Titanic - Machine Learning from Disaster\n",
    "\n",
    "pclass: A proxy for socio-economic status (SES)\n",
    "1st = Upper\n",
    "2nd = Middle\n",
    "3rd = Lower\n",
    "\n",
    "age: Age is fractional if less than 1. If the age is estimated, is it in the form of xx.5\n",
    "\n",
    "sibsp: The dataset defines family relations in this way...\n",
    "Sibling = brother, sister, stepbrother, stepsister\n",
    "Spouse = husband, wife (mistresses and fiancés were ignored)\n",
    "\n",
    "parch: The dataset defines family relations in this way...\n",
    "Parent = mother, father\n",
    "Child = daughter, son, stepdaughter, stepson\n",
    "Some children travelled only with a nanny, therefore parch=0 for them.\n",
    "\n",
    "Kaggle: https://www.kaggle.com/c/titanic"
   ]
  },
  {
   "cell_type": "code",
   "execution_count": 46,
   "metadata": {},
   "outputs": [],
   "source": [
    "import numpy as np\n",
    "import pandas as pd \n",
    "from sklearn.preprocessing import  StandardScaler\n",
    "from sklearn.model_selection import train_test_split"
   ]
  },
  {
   "cell_type": "code",
   "execution_count": 94,
   "metadata": {},
   "outputs": [],
   "source": [
    "#Preparacion Data\n",
    "df = pd.read_csv(\"train.csv\")\n",
    "inputs = df.drop('Survived',axis='columns')\n",
    "target = df.Survived\n",
    "x_train, x_test, y_train, y_test = train_test_split(inputs,target, test_size = 0.3, random_state = 0)"
   ]
  },
  {
   "cell_type": "code",
   "execution_count": 95,
   "metadata": {},
   "outputs": [
    {
     "data": {
      "text/plain": [
       "GaussianNB()"
      ]
     },
     "execution_count": 95,
     "metadata": {},
     "output_type": "execute_result"
    }
   ],
   "source": [
    "#Entrenamiento\n",
    "from sklearn.naive_bayes import GaussianNB\n",
    "x_train.drop(['PassengerId','Name','SibSp','Parch','Ticket','Cabin','Embarked'],axis='columns',inplace=True)\n",
    "dummies = pd.get_dummies(x_train.Sex )\n",
    "x_train = pd.concat([x_train,dummies],axis='columns')\n",
    "x_train.drop(['Sex','male'],axis='columns',inplace=True)\n",
    "x_train.Age = x_train.Age.fillna(x_train.Age.median())\n",
    "x_train.Fare = x_train.Fare.fillna(x_train.Fare.mean())\n",
    "sc = StandardScaler()\n",
    "Entrenamiento = sc.fit_transform(x_train)\n",
    "\n",
    "#import matplotlib.pyplot as plot\n",
    "#edades=x_train.Age.values.tolist()\n",
    "#plot.hist(x=edades, bins=20, color='#F2AB6D', rwidth=0.85)\n",
    "#plot.title('Histograma de edades - matplotlib - codigopiton.com')\n",
    "#plot.xlabel('Edades')\n",
    "#plot.ylabel('Frecuencia')\n",
    "\n",
    "#Modelo Bayes\n",
    "Modelo_Bayes = GaussianNB()\n",
    "Modelo_Bayes.fit(Entrenamiento,y_train)"
   ]
  },
  {
   "cell_type": "code",
   "execution_count": 96,
   "metadata": {},
   "outputs": [],
   "source": [
    "#Test\n",
    "\n",
    "x_test = x_test.drop(['PassengerId','Name','SibSp','Parch','Ticket','Cabin','Embarked'],axis='columns')\n",
    "dummies_test = pd.get_dummies(x_test.Sex  )\n",
    "x_test  = pd.concat([x_test , dummies_test],axis='columns')\n",
    "x_test.drop(['Sex','male'],axis='columns',inplace=True)\n",
    "x_test.Age = x_test.Age.fillna(x_test.Age.median())\n",
    "x_test.Fare = x_test.Fare.fillna(x_test.Fare.mean())\n",
    "x_test= sc.transform(x_test)\n",
    "y_predicted = Modelo_Bayes.predict(x_test)"
   ]
  },
  {
   "cell_type": "code",
   "execution_count": 97,
   "metadata": {},
   "outputs": [
    {
     "name": "stderr",
     "output_type": "stream",
     "text": [
      "C:\\Users\\sullo\\AppData\\Local\\Programs\\Python\\Python39\\lib\\site-packages\\sklearn\\utils\\deprecation.py:87: FutureWarning: Function plot_confusion_matrix is deprecated; Function `plot_confusion_matrix` is deprecated in 1.0 and will be removed in 1.2. Use one of the class methods: ConfusionMatrixDisplay.from_predictions or ConfusionMatrixDisplay.from_estimator.\n",
      "  warnings.warn(msg, category=FutureWarning)\n"
     ]
    },
    {
     "data": {
      "image/png": "[encoded data removed]",
      "text/plain": [
       "<Figure size 432x288 with 2 Axes>"
      ]
     },
     "metadata": {
      "needs_background": "light"
     },
     "output_type": "display_data"
    }
   ],
   "source": [
    "from sklearn.metrics import plot_confusion_matrix\n",
    "import matplotlib.pyplot as plt\n",
    "plot_confusion_matrix(Modelo_Bayes,x_test, y_test)  \n",
    "plt.show()"
   ]
  }
 ],
 "metadata": {
  "interpreter": {
   "hash": "c637c68690e55ca4b11850d51320520bb27e1ffcb80917df62e917f03b70d0c8"
  },
  "kernelspec": {
   "display_name": "Python 3.9.9 64-bit",
   "language": "python",
   "name": "python3"
  },
  "language_info": {
   "codemirror_mode": {
    "name": "ipython",
    "version": 3
   },
   "file_extension": ".py",
   "mimetype": "text/x-python",
   "name": "python",
   "nbconvert_exporter": "python",
   "pygments_lexer": "ipython3",
   "version": "3.9.9"
  },
  "orig_nbformat": 4
 },
 "nbformat": 4,
 "nbformat_minor": 2
}
