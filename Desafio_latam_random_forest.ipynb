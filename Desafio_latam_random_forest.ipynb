{
  "nbformat": 4,
  "nbformat_minor": 0,
  "metadata": {
    "colab": {
      "provenance": [],
      "authorship_tag": "ABX9TyOYA26Sm/ZCGUilrAjBgSW8",
      "include_colab_link": true
    },
    "kernelspec": {
      "name": "python3",
      "display_name": "Python 3"
    },
    "language_info": {
      "name": "python"
    }
  },
  "cells": [
    {
      "cell_type": "markdown",
      "metadata": {
        "id": "view-in-github",
        "colab_type": "text"
      },
      "source": [
        "<a href=\"https://colab.research.google.com/github/sightes/COFFETALKS/blob/main/Desafio_latam_random_forest.ipynb\" target=\"_parent\"><img src=\"https://colab.research.google.com/assets/colab-badge.svg\" alt=\"Open In Colab\"/></a>"
      ]
    },
    {
      "cell_type": "code",
      "execution_count": 2,
      "metadata": {
        "colab": {
          "base_uri": "https://localhost:8080/"
        },
        "id": "S2u4DIvwYCon",
        "outputId": "849be475-dc3b-48ea-f595-f0f46779768f"
      },
      "outputs": [
        {
          "output_type": "stream",
          "name": "stdout",
          "text": [
            "Archive:  /Rf.zip\n",
            "  inflating: ames_housing.csv        \n"
          ]
        }
      ],
      "source": [
        "!unzip \"/Rf.zip\""
      ]
    },
    {
      "cell_type": "code",
      "source": [
        "import numpy as np\n",
        "import pandas as pd\n",
        "import matplotlib.pyplot as plt\n",
        "from sklearn.ensemble import RandomForestRegressor\n",
        "from sklearn.metrics import mean_squared_error,r2_score,mean_absolute_error"
      ],
      "metadata": {
        "id": "hrVxalxdYeD9"
      },
      "execution_count": 17,
      "outputs": []
    },
    {
      "cell_type": "code",
      "source": [
        "df=pd.read_csv('ames_housing.csv').drop('Unnamed: 0',axis=1)"
      ],
      "metadata": {
        "id": "lOxHjflUYzwI"
      },
      "execution_count": 10,
      "outputs": []
    },
    {
      "cell_type": "code",
      "source": [
        "from sklearn.preprocessing import OneHotEncoder, StandardScaler\n",
        "\n",
        "from sklearn.model_selection import train_test_split, GridSearchCV, ParameterGrid\n",
        "numeric_cols = df.select_dtypes([int, float]).drop(columns = 'Sale_Price')\n",
        "categorical_cols = df.select_dtypes('O')\n",
        "y = df.Sale_Price\n",
        "scaler = StandardScaler().fit(numeric_cols)\n",
        "ohe = OneHotEncoder(sparse = False, drop = 'first', handle_unknown='ignore').fit(categorical_cols)\n",
        "categoricals_bin = pd.DataFrame(data = ohe.transform(categorical_cols),columns = ohe.get_feature_names_out() )\n",
        "numeric_scaled = pd.DataFrame(data = scaler.transform(numeric_cols), columns = scaler.get_feature_names_out())\n",
        "preproc_df = pd.concat([numeric_scaled, categoricals_bin, y], axis = 1)\n",
        "x_train, x_test, y_train, y_test = train_test_split(preproc_df.drop(columns = ['Sale_Price']), preproc_df['Sale_Price'],\n",
        "                                                   test_size = 0.3, random_state=15)\n"
      ],
      "metadata": {
        "id": "L7BOwrofZrvX"
      },
      "execution_count": 11,
      "outputs": []
    },
    {
      "cell_type": "code",
      "source": [
        "forest=RandomForestRegressor(\n",
        "    n_estimators=100,max_features='sqrt',\n",
        "    random_state=15).fit(x_train,y_train)\n",
        "\n"
      ],
      "metadata": {
        "id": "U7n8X9oKag59"
      },
      "execution_count": 23,
      "outputs": []
    },
    {
      "cell_type": "code",
      "source": [
        "mean_absolute_error(y_test, forest.predict(x_test))"
      ],
      "metadata": {
        "colab": {
          "base_uri": "https://localhost:8080/"
        },
        "id": "gIcsZ3Isb4g4",
        "outputId": "6fcd3c4c-4274-4bf4-dd42-91e33c111930"
      },
      "execution_count": 24,
      "outputs": [
        {
          "output_type": "execute_result",
          "data": {
            "text/plain": [
              "16377.0498407281"
            ]
          },
          "metadata": {},
          "execution_count": 24
        }
      ]
    },
    {
      "cell_type": "code",
      "source": [
        "tmp_oob_sqrt,tmp_obb_log2,tmp_obb_none=[],[],[]\n",
        "estimadores=np.asarray(range(5,100,10)).tolist()\n",
        "for i in estimadores:\n",
        "   forest=RandomForestRegressor(\n",
        "        n_estimators=i,max_features='sqrt',\n",
        "        random_state=15,oob_score=True).fit(x_train,y_train) \n",
        "   forest2=RandomForestRegressor(\n",
        "        n_estimators=i,max_features='log2',\n",
        "        random_state=15,oob_score=True).fit(x_train,y_train)\n",
        "   \n",
        "   forest3=RandomForestRegressor(\n",
        "        n_estimators=i,max_features=None,\n",
        "        random_state=15,oob_score=True).fit(x_train,y_train)      \n",
        "   tmp_oob_sqrt.append(forest.oob_score_)\n",
        "   tmp_obb_log2.append(forest2.oob_score_)\n",
        "   tmp_obb_none.append(forest3.oob_score_)\n",
        "    "
      ],
      "metadata": {
        "colab": {
          "base_uri": "https://localhost:8080/"
        },
        "id": "ofEVuckZdEU8",
        "outputId": "07a18cdc-52fd-4f87-96fa-00ddf51848e1"
      },
      "execution_count": 47,
      "outputs": [
        {
          "output_type": "stream",
          "name": "stderr",
          "text": [
            "/usr/local/lib/python3.8/dist-packages/sklearn/ensemble/_forest.py:560: UserWarning: Some inputs do not have OOB scores. This probably means too few trees were used to compute any reliable OOB estimates.\n",
            "  warn(\n",
            "/usr/local/lib/python3.8/dist-packages/sklearn/ensemble/_forest.py:560: UserWarning: Some inputs do not have OOB scores. This probably means too few trees were used to compute any reliable OOB estimates.\n",
            "  warn(\n",
            "/usr/local/lib/python3.8/dist-packages/sklearn/ensemble/_forest.py:560: UserWarning: Some inputs do not have OOB scores. This probably means too few trees were used to compute any reliable OOB estimates.\n",
            "  warn(\n",
            "/usr/local/lib/python3.8/dist-packages/sklearn/ensemble/_forest.py:560: UserWarning: Some inputs do not have OOB scores. This probably means too few trees were used to compute any reliable OOB estimates.\n",
            "  warn(\n",
            "/usr/local/lib/python3.8/dist-packages/sklearn/ensemble/_forest.py:560: UserWarning: Some inputs do not have OOB scores. This probably means too few trees were used to compute any reliable OOB estimates.\n",
            "  warn(\n",
            "/usr/local/lib/python3.8/dist-packages/sklearn/ensemble/_forest.py:560: UserWarning: Some inputs do not have OOB scores. This probably means too few trees were used to compute any reliable OOB estimates.\n",
            "  warn(\n"
          ]
        }
      ]
    },
    {
      "cell_type": "code",
      "source": [
        "\n",
        "plt.plot(tmp_oob_sqrt,'.-',label='SQRT oob error rate')\n",
        "plt.plot(tmp_obb_log2,'.-',label='LOG2 oob error rate')\n",
        "\n",
        "plt.plot(tmp_obb_none,'.-',label='totas las caracteristicas oob error rate')\n",
        "plt.xticks(range(len(estimadores)),estimadores,rotation=90)\n",
        "plt.tight_layout()\n",
        "plt.legend()"
      ],
      "metadata": {
        "colab": {
          "base_uri": "https://localhost:8080/",
          "height": 315
        },
        "id": "MELflEAreHtq",
        "outputId": "0dea3d53-481e-4a00-ff2b-a3eaabf2c7d8"
      },
      "execution_count": 48,
      "outputs": [
        {
          "output_type": "execute_result",
          "data": {
            "text/plain": [
              "<matplotlib.legend.Legend at 0x7f886db20370>"
            ]
          },
          "metadata": {},
          "execution_count": 48
        },
        {
          "output_type": "display_data",
          "data": {
            "text/plain": [
              "<Figure size 432x288 with 1 Axes>"
            ],
            "image/png": "[encoded data removed]"
          },
          "metadata": {
            "needs_background": "light"
          }
        }
      ]
    },
    {
      "cell_type": "code",
      "source": [
        "[mean_absolute_error(y_test, forest.predict(x_test)),\n",
        " mean_absolute_error(y_test, forest2.predict(x_test)),\n",
        " mean_absolute_error(y_test, forest3.predict(x_test))]"
      ],
      "metadata": {
        "colab": {
          "base_uri": "https://localhost:8080/"
        },
        "id": "R3p-BGuCf3oS",
        "outputId": "649f7385-e142-4c97-b54a-9a48f678de6c"
      },
      "execution_count": 49,
      "outputs": [
        {
          "output_type": "execute_result",
          "data": {
            "text/plain": [
              "[16366.756361894497, 17010.72668702473, 17542.07137297168]"
            ]
          },
          "metadata": {},
          "execution_count": 49
        }
      ]
    },
    {
      "cell_type": "code",
      "source": [
        "cart_params = {'n_estimators':[10,20,30,40,50,70,100,200,300], \n",
        "               'max_features': ['sqrt', 'log2', None],\n",
        "               'max_depth':[10,20,30]}"
      ],
      "metadata": {
        "id": "Se8T1VSAh1y8"
      },
      "execution_count": 56,
      "outputs": []
    },
    {
      "cell_type": "code",
      "source": [
        "%%time\n",
        "grid_cart = GridSearchCV(RandomForestRegressor(random_state=15,oob_score=True),\n",
        "                         param_grid=cart_params).fit(x_train, y_train)\n",
        "\n",
        "                    "
      ],
      "metadata": {
        "colab": {
          "base_uri": "https://localhost:8080/"
        },
        "id": "3Vk1xbrHiVE4",
        "outputId": "ebc23da2-d619-47a6-98ab-a895b4d006ec"
      },
      "execution_count": 57,
      "outputs": [
        {
          "output_type": "stream",
          "name": "stderr",
          "text": [
            "/usr/local/lib/python3.8/dist-packages/sklearn/ensemble/_forest.py:560: UserWarning: Some inputs do not have OOB scores. This probably means too few trees were used to compute any reliable OOB estimates.\n",
            "  warn(\n",
            "/usr/local/lib/python3.8/dist-packages/sklearn/ensemble/_forest.py:560: UserWarning: Some inputs do not have OOB scores. This probably means too few trees were used to compute any reliable OOB estimates.\n",
            "  warn(\n",
            "/usr/local/lib/python3.8/dist-packages/sklearn/ensemble/_forest.py:560: UserWarning: Some inputs do not have OOB scores. This probably means too few trees were used to compute any reliable OOB estimates.\n",
            "  warn(\n",
            "/usr/local/lib/python3.8/dist-packages/sklearn/ensemble/_forest.py:560: UserWarning: Some inputs do not have OOB scores. This probably means too few trees were used to compute any reliable OOB estimates.\n",
            "  warn(\n",
            "/usr/local/lib/python3.8/dist-packages/sklearn/ensemble/_forest.py:560: UserWarning: Some inputs do not have OOB scores. This probably means too few trees were used to compute any reliable OOB estimates.\n",
            "  warn(\n",
            "/usr/local/lib/python3.8/dist-packages/sklearn/ensemble/_forest.py:560: UserWarning: Some inputs do not have OOB scores. This probably means too few trees were used to compute any reliable OOB estimates.\n",
            "  warn(\n",
            "/usr/local/lib/python3.8/dist-packages/sklearn/ensemble/_forest.py:560: UserWarning: Some inputs do not have OOB scores. This probably means too few trees were used to compute any reliable OOB estimates.\n",
            "  warn(\n",
            "/usr/local/lib/python3.8/dist-packages/sklearn/ensemble/_forest.py:560: UserWarning: Some inputs do not have OOB scores. This probably means too few trees were used to compute any reliable OOB estimates.\n",
            "  warn(\n",
            "/usr/local/lib/python3.8/dist-packages/sklearn/ensemble/_forest.py:560: UserWarning: Some inputs do not have OOB scores. This probably means too few trees were used to compute any reliable OOB estimates.\n",
            "  warn(\n",
            "/usr/local/lib/python3.8/dist-packages/sklearn/ensemble/_forest.py:560: UserWarning: Some inputs do not have OOB scores. This probably means too few trees were used to compute any reliable OOB estimates.\n",
            "  warn(\n"
          ]
        },
        {
          "output_type": "stream",
          "name": "stdout",
          "text": [
            "CPU times: user 3min 51s, sys: 629 ms, total: 3min 52s\n",
            "Wall time: 3min 56s\n"
          ]
        }
      ]
    },
    {
      "cell_type": "code",
      "source": [
        "arbol=grid_cart.best_estimator_"
      ],
      "metadata": {
        "id": "4b-z33oGjW8m"
      },
      "execution_count": 63,
      "outputs": []
    },
    {
      "cell_type": "code",
      "source": [
        "mean_absolute_error(y_test, grid_cart.best_estimator_.predict(x_test))"
      ],
      "metadata": {
        "colab": {
          "base_uri": "https://localhost:8080/"
        },
        "id": "_nNAngHvjgP1",
        "outputId": "b544c1da-cdcb-4f14-9a51-f38e8a723127"
      },
      "execution_count": 59,
      "outputs": [
        {
          "output_type": "execute_result",
          "data": {
            "text/plain": [
              "16293.27906206548"
            ]
          },
          "metadata": {},
          "execution_count": 59
        }
      ]
    },
    {
      "cell_type": "code",
      "source": [
        "import pickle\n",
        "# save the model to disk\n",
        "filename = 'finalized_model.sav'\n",
        "pickle.dump(arbol, open(filename, 'wb'))\n",
        " "
      ],
      "metadata": {
        "id": "qC9sxr_IlvjV"
      },
      "execution_count": 64,
      "outputs": []
    },
    {
      "cell_type": "code",
      "source": [
        "\n",
        "# some time later...\n",
        " \n",
        "# load the model from disk\n",
        "loaded_model = pickle.load(open(filename, 'rb'))"
      ],
      "metadata": {
        "id": "4LLn6TSMl8mm"
      },
      "execution_count": 65,
      "outputs": []
    },
    {
      "cell_type": "code",
      "source": [
        "loaded_model.predict(x_test)"
      ],
      "metadata": {
        "colab": {
          "base_uri": "https://localhost:8080/"
        },
        "id": "aV0lFHq_mulJ",
        "outputId": "1f7c1746-18c0-47e8-dcb7-296e2058408e"
      },
      "execution_count": 67,
      "outputs": [
        {
          "output_type": "execute_result",
          "data": {
            "text/plain": [
              "array([125766.79666667, 143046.09      , 173309.94      , 171204.98      ,\n",
              "       303321.36666667, 341055.24      , 177883.87      , 137223.02666667,\n",
              "       318739.31333333, 178043.05      , 149315.47      , 130257.16666667,\n",
              "       101823.45666667, 181164.56333333, 372356.12      , 251921.57666667,\n",
              "       125198.09      , 155925.90333333, 145273.06666667, 211804.62666667,\n",
              "       236230.02      , 210366.63      , 121558.95666667, 178640.95333333,\n",
              "       165937.33333333, 183222.76333333, 127896.05666667, 136996.        ,\n",
              "        87355.28      , 163968.67666667, 139474.66666667, 168574.98333333,\n",
              "       126963.44333333, 140877.9       , 215661.41333333, 107489.77      ,\n",
              "       187998.4       , 183071.86333333, 132936.72666667, 163023.01      ,\n",
              "       123511.11666667, 324567.77333333, 198662.11666667, 220539.46      ,\n",
              "       245766.73666667, 162229.39666667, 356740.42      , 130661.71      ,\n",
              "       174838.43      , 276859.30333333, 142581.20333333, 113104.84333333,\n",
              "       184653.91666667, 140954.58333333, 189162.70333333, 194443.24333333,\n",
              "       131831.58      , 168276.39666667, 339569.67      , 190598.97      ,\n",
              "       206605.35666667, 102275.03666667, 107400.46333333, 162620.23333333,\n",
              "       206387.80333333, 130992.92      , 300086.13333333, 146175.62666667,\n",
              "       144258.14      , 238289.34666667, 167075.85      , 133570.97      ,\n",
              "       208677.03666667, 143301.14333333, 152215.35      , 236915.91666667,\n",
              "       113343.6       , 202984.24666667, 150769.80666667, 249751.24666667,\n",
              "       155850.69333333, 180828.63666667, 191059.21333333, 196538.50333333,\n",
              "       114170.85      , 152070.44333333, 319040.04      , 138943.58333333,\n",
              "       207121.15666667, 164603.21666667, 141900.44333333, 145687.84333333,\n",
              "       301947.95333333, 243769.92666667, 191766.16666667, 127152.36      ,\n",
              "       152907.49666667, 150413.79333333, 153429.08      , 184493.81333333,\n",
              "       130267.55666667, 158567.16      , 145730.69333333, 138163.48333333,\n",
              "       213379.32      , 168174.98      , 231620.22      , 140350.87      ,\n",
              "       174399.42      , 237506.4       , 286486.03333333, 235391.81      ,\n",
              "       193481.62333333, 130406.00666667, 127452.85      , 132839.83333333,\n",
              "        93611.12333333, 126786.85666667, 151546.27      , 159241.89333333,\n",
              "       145274.05      , 188903.59666667, 317522.93333333, 125260.92666667,\n",
              "       163262.08333333, 240378.28666667, 416061.31      , 216899.23666667,\n",
              "       138989.47666667, 149191.25      , 235683.19      , 139248.46666667,\n",
              "       223357.33666667, 130875.61333333, 205692.35666667,  97934.87      ,\n",
              "       179448.25      , 128725.47      , 323345.73333333, 361527.14      ,\n",
              "       180212.44333333, 207564.95666667, 141651.74666667, 139324.09      ,\n",
              "       385215.58      , 183006.71666667, 114974.83666667, 197166.76      ,\n",
              "       164218.75      , 268278.00333333, 220075.83      , 166441.66333333,\n",
              "       274632.92666667, 117354.87      , 233223.11      , 440557.69333333,\n",
              "       424781.23333333, 129860.44333333, 141239.98      , 184537.33333333,\n",
              "       135023.74666667, 147058.        , 261754.01333333, 177849.55333333,\n",
              "       110221.76      , 207987.46333333, 123394.80333333, 135961.32666667,\n",
              "       289132.47      , 158593.65      , 228724.22      , 266196.76      ,\n",
              "       120513.82      , 142892.97333333, 140974.61666667, 106692.04      ,\n",
              "       113787.89      , 135587.41666667, 167287.72      , 189360.33333333,\n",
              "       160979.64666667, 140991.08666667, 131493.00666667, 155947.24666667,\n",
              "       130081.11666667, 143697.81666667, 249515.86333333, 178875.85      ,\n",
              "       298398.61      , 104285.65666667, 137649.52666667, 142823.85666667,\n",
              "        92045.85666667, 384438.75333333, 170142.44333333, 146951.74      ,\n",
              "       274606.17      , 114007.52333333,  87468.43      , 260888.14333333,\n",
              "       194135.89666667, 219756.18666667, 149842.35666667, 185133.43      ,\n",
              "       140307.13333333, 214046.26333333, 121057.26333333, 148379.48333333,\n",
              "       194676.39666667, 203279.97333333, 121050.74666667, 153234.63      ,\n",
              "       113061.23333333, 118442.10333333, 104811.66666667, 229185.22      ,\n",
              "        78457.45      , 143200.75      , 245449.21666667, 189989.16666667,\n",
              "       117140.03333333, 110492.35666667, 240077.79      , 126715.87333333,\n",
              "       393597.19333333, 137803.47666667, 133170.11      , 125953.5       ,\n",
              "       125407.70333333, 138543.23333333, 131111.75      , 226028.22666667,\n",
              "       279982.48333333, 129121.75      , 245110.54666667, 199779.47666667,\n",
              "       194199.09666667, 166486.86333333, 189419.47      , 217576.29666667,\n",
              "       108098.90333333, 305849.76666667, 167778.18      , 181625.18666667,\n",
              "       119158.88      , 205259.77666667, 186598.44      , 130619.68333333,\n",
              "       204418.84      ,  98283.50333333, 155344.01333333, 144050.04      ,\n",
              "       428638.12333333, 136380.85333333, 103601.84      , 327231.84333333,\n",
              "       208584.72333333, 135115.84666667, 224573.14333333, 141744.57666667,\n",
              "       124392.36666667, 170362.93666667, 149003.04      , 219239.46      ,\n",
              "       156797.61666667, 227597.34666667, 138334.46666667, 151051.72      ,\n",
              "       299228.28666667, 147520.94333333, 138938.67333333, 184695.48666667,\n",
              "       282678.13666667, 118255.45      , 169903.01      , 130371.14333333,\n",
              "       182984.12666667, 177690.84333333, 138469.76      , 151739.69666667,\n",
              "       195976.84333333, 140411.85333333, 246704.89      , 197575.87      ,\n",
              "       164822.54666667, 186948.66      , 196692.21333333, 198782.57888889,\n",
              "       149977.03333333, 263815.16666667, 111813.65      , 124749.07333333,\n",
              "       156788.10333333, 128549.93333333, 179546.35666667, 132958.91333333,\n",
              "       193652.02333333, 118805.14      , 218696.96666667, 289476.87666667,\n",
              "       125751.28333333, 169693.27333333, 241579.75666667, 106131.20666667,\n",
              "       135165.41666667, 178092.63      , 140975.94333333, 141232.19      ,\n",
              "       428944.15      , 138302.45333333, 225110.59333333, 165442.20333333,\n",
              "       177972.56      , 141458.44666667, 223541.15333333, 174110.08      ,\n",
              "       148065.98      , 407258.43666667, 144036.33333333, 198687.69666667,\n",
              "       128273.63      , 157663.96666667, 143926.63333333, 153641.82666667,\n",
              "       169377.05333333, 248150.01333333, 147727.16666667, 110664.13666667,\n",
              "       418633.38333333, 104601.83333333, 206203.33333333, 194014.22      ,\n",
              "       135217.73      , 206331.5       , 188875.56333333, 142312.28333333,\n",
              "       110711.35666667, 171848.99666667, 162227.83333333, 238642.17      ,\n",
              "        85287.76666667, 288169.71666667, 138816.88      , 164651.23      ,\n",
              "       155533.90333333, 161747.83333333, 161264.24333333, 292118.49      ,\n",
              "       129358.76666667, 267044.76      , 155614.96666667, 149099.63      ,\n",
              "       204583.25666667, 165038.47      , 125640.18      , 145051.83333333,\n",
              "       131157.73333333, 213960.05666667, 143915.64333333, 200133.13      ,\n",
              "       120804.19666667, 138273.45666667, 207566.46      , 269406.09333333,\n",
              "       143032.91666667, 127351.64333333, 120700.26      , 126618.04      ,\n",
              "       102574.53666667, 181654.56666667, 129002.25      , 153465.95      ,\n",
              "       131860.54333333, 144817.19333333, 255244.99666667, 345982.74666667,\n",
              "       202127.95333333, 228971.23      , 162019.37666667, 148949.51666667,\n",
              "       134618.73666667, 114802.24333333, 138831.84666667, 173262.29      ,\n",
              "       149253.38333333, 149030.76666667, 175035.97666667, 248325.12      ,\n",
              "       181970.05333333, 321935.23333333, 140338.17666667, 143085.98      ,\n",
              "       123142.13666667, 232348.4       , 101403.80333333, 137971.92      ,\n",
              "       165922.71666667, 250116.94      , 122434.84333333, 405708.61      ,\n",
              "       169307.81666667, 226767.75333333, 168782.75      , 161031.12666667,\n",
              "       219188.69333333, 249180.66666667, 123628.69      , 228066.68666667,\n",
              "        79308.01666667, 224562.51333333, 339975.38333333, 132371.07      ,\n",
              "       387077.90333333, 142118.94333333, 214193.53      , 117294.58666667,\n",
              "       114004.50666667, 145523.87333333, 187753.87666667, 189122.69666667,\n",
              "       129643.47666667, 195055.28666667, 128986.26666667, 245546.43333333,\n",
              "       137432.76666667, 325320.64666667, 169211.00333333, 154860.38333333,\n",
              "       120060.48      , 125314.28      , 230544.15333333, 317392.77333333,\n",
              "       140030.55333333, 140843.98      , 138406.41666667, 121967.71333333,\n",
              "       178527.84333333, 195942.58666667, 174665.06666667, 132793.56333333,\n",
              "       189203.58666667, 253411.76333333, 137933.13333333, 199373.75      ,\n",
              "       118122.94      , 160599.74666667, 153717.91666667, 147983.83333333,\n",
              "       167738.03333333, 174164.53      , 170774.48666667, 184975.18333333,\n",
              "       100216.33666667, 214878.16      , 153351.46333333, 155806.33333333,\n",
              "       233590.65333333, 113731.11666667,  99498.43666667, 155274.62      ,\n",
              "       132695.05333333, 128404.76666667, 291454.44333333, 187665.88333333,\n",
              "       217780.58      , 246231.41333333, 269009.51333333, 171765.25333333,\n",
              "       124930.68333333, 145602.7       , 192706.92666667, 180504.49333333,\n",
              "        97559.74333333, 138068.98666667, 235997.52333333, 138429.83333333,\n",
              "       229237.57333333, 106325.31666667, 300084.86      , 189572.78      ,\n",
              "       204623.27666667, 293888.26333333, 164976.17666667, 198080.99      ,\n",
              "       229401.84333333, 146297.3       , 148404.35666667, 150647.08666667,\n",
              "       181870.58666667, 337314.16333333, 280031.98333333, 120045.37666667,\n",
              "       216219.22666667, 128909.85333333, 358889.79666667, 149446.26666667,\n",
              "       209415.56333333, 186988.20333333, 161993.94666667, 189102.50555556,\n",
              "       250054.25      , 309257.61      ,  98386.22333333, 210853.09333333,\n",
              "       101584.99      , 123625.80333333, 137043.82      , 121329.63666667,\n",
              "       145440.20333333, 129766.19666667, 173780.43333333, 356456.91      ,\n",
              "       173893.83      , 304382.65333333, 117871.46      , 197051.83      ,\n",
              "       261341.45333333, 188973.97333333, 218176.81666667,  92291.97      ,\n",
              "       304261.39666667, 126266.44      , 126479.41      , 148055.06      ,\n",
              "       216227.95666667, 123026.99666667, 214235.32666667, 135439.51666667,\n",
              "       135721.66666667, 101301.31      , 171821.97333333, 151521.33333333,\n",
              "       108790.3       ,  93357.31      , 168785.85666667, 200828.88666667,\n",
              "       108974.48333333, 144935.21333333, 197426.00333333, 197225.55333333,\n",
              "       234502.17666667,  85985.57      , 149684.68333333, 189031.76      ,\n",
              "       127184.32666667, 136699.67333333, 185840.60333333, 236953.35666667,\n",
              "       141014.41666667, 112181.05666667, 125072.92666667, 173255.66666667,\n",
              "       282787.16666667, 123604.08      , 135352.66666667, 324662.75666667,\n",
              "       175305.31666667, 144254.56666667, 229497.95      , 332049.28333333,\n",
              "       189851.68666667, 117552.64      , 169456.42      , 193951.36333333,\n",
              "       119843.36      , 110568.45333333, 152893.53      , 184943.25333333,\n",
              "       347225.89666667, 247238.68666667, 125184.35666667, 187915.90333333,\n",
              "       115412.64      , 196899.9       , 140124.88      , 116676.7       ,\n",
              "        84369.66666667, 184377.50666667, 187783.61333333, 118209.89      ,\n",
              "       229607.01666667, 138999.97333333, 102050.85333333, 219489.29333333,\n",
              "       143361.49      , 130719.89333333, 103953.76333333, 226814.19666667,\n",
              "       265203.09      , 171776.61      , 181453.21      , 287609.43      ,\n",
              "       270500.45      , 163369.63      , 233983.48333333, 140200.95      ,\n",
              "        80758.50333333, 268483.25333333, 153490.47333333, 119424.72333333,\n",
              "       150740.95      , 129291.76666667, 196058.60333333, 162134.65      ,\n",
              "       160852.12666667, 204337.39333333, 117902.54      , 254283.36333333,\n",
              "       120009.13      , 217104.89      , 216658.10666667, 139499.75666667,\n",
              "       109317.15666667, 359456.35      , 179397.16666667, 103308.27666667,\n",
              "       171035.29333333, 257858.57666667, 144092.32333333, 230619.01666667,\n",
              "       122320.99333333, 139714.75      , 156598.54333333, 186948.62888889,\n",
              "       230235.81333333, 290181.60666667, 116871.52333333, 297310.81      ,\n",
              "       122209.56      , 179983.26333333,  93744.16666667, 137088.65      ,\n",
              "       213939.82333333, 155145.62      , 191944.8       , 265730.32666667,\n",
              "       186534.63666667, 333078.53      , 107828.21666667, 149300.34666667,\n",
              "       143445.76666667, 149370.44333333, 140135.7       , 209632.69666667,\n",
              "       108601.06666667, 434639.63333333, 126629.06666667, 214191.58333333,\n",
              "       105146.        , 192327.75333333, 129359.77333333, 214732.40333333,\n",
              "       160584.35666667, 169682.82      , 135896.08666667, 244418.59666667,\n",
              "        95736.37666667, 130469.77333333, 110295.26333333, 194633.10333333,\n",
              "       294131.57666667, 142091.12666667, 199958.74      , 192580.46666667,\n",
              "       180619.31666667, 338665.25666667, 452091.11333333,  84568.99666667,\n",
              "       117558.4       , 215151.43      , 156269.30333333, 131915.88666667,\n",
              "       188236.82      , 343497.45333333, 160066.09      , 122420.49333333,\n",
              "       203750.90333333, 133051.11333333, 162529.42      , 124399.10666667,\n",
              "       139565.48333333, 158900.51333333, 166386.46      , 137333.84      ,\n",
              "        78945.63      , 124826.72      , 229710.11333333,  97078.22666667,\n",
              "       300155.76      , 189730.03666667, 157996.63666667, 313616.95      ,\n",
              "       165015.19333333, 159118.28333333, 200680.03      , 184586.62666667,\n",
              "       111688.98666667, 244152.40333333, 133234.03666667, 115348.20666667,\n",
              "       145907.25      , 137597.91333333,  78778.14333333, 105366.68      ,\n",
              "       139342.6       , 105540.36333333, 188349.51333333, 129438.92      ,\n",
              "       149375.82333333, 266899.54333333, 222129.03666667, 133703.08333333,\n",
              "       181239.53      , 205106.57      , 227906.46      , 220218.48      ,\n",
              "       158264.28666667, 249997.24      , 144626.76666667, 131306.16333333,\n",
              "       152317.94666667, 141244.41666667, 147524.73333333, 445090.02      ,\n",
              "       152939.03666667, 130525.66666667, 242108.35      , 110495.82333333,\n",
              "       109223.43333333, 247999.86666667, 238440.39666667, 178744.82666667,\n",
              "       278570.43333333, 101554.5       , 178383.55666667, 184314.7       ,\n",
              "       152312.86666667, 133498.01      , 111313.15666667, 135731.8       ,\n",
              "       170481.92      , 165186.61333333, 114861.77      , 131098.35333333,\n",
              "       145416.24666667, 125986.19666667, 275691.21666667, 173333.66      ,\n",
              "       182131.65666667, 231260.64333333, 139504.15333333, 193223.08333333,\n",
              "       111450.21      , 124670.15666667, 242430.92      , 171187.3       ,\n",
              "       131341.63666667, 181458.81333333, 105418.23666667, 254228.13666667,\n",
              "       411534.06      , 189670.91666667, 126683.35      , 209601.86666667,\n",
              "       149446.60666667, 193036.6       , 162601.74      , 233583.37666667,\n",
              "       437764.94      , 223565.96666667, 200624.38333333, 145832.30666667,\n",
              "       133257.23333333, 145220.44333333, 148534.57666667, 203805.01333333,\n",
              "       118680.22666667, 309704.07      , 214311.7       , 155150.96      ,\n",
              "       231815.98666667, 231924.97      , 348742.61333333, 288690.46      ,\n",
              "       228338.89666667,  91889.54      , 182057.92333333, 167578.20333333,\n",
              "       201788.24666667, 232213.54333333, 141724.70333333, 304233.44333333,\n",
              "       141468.48      , 194664.81333333, 323014.72666667, 329368.22333333,\n",
              "       171830.40333333, 184033.37666667, 148569.15333333, 150515.83333333,\n",
              "       321826.34666667, 190572.7       , 308889.96      , 101525.27333333,\n",
              "       144633.7       , 112310.52333333, 221460.79666667,  83997.93333333,\n",
              "       127574.96      , 114516.41666667, 124096.17666667, 134204.83333333,\n",
              "       260091.18333333, 127331.53      , 168816.83333333, 148964.78333333,\n",
              "       262168.72      , 316389.02      , 253805.96666667, 277350.59      ,\n",
              "       266405.98      , 169975.71666667, 155353.35333333, 139823.37333333,\n",
              "       196291.        , 306141.93333333, 220123.49666667, 179066.03      ,\n",
              "       139926.43333333, 146450.97      , 139923.30333333, 149399.75666667,\n",
              "       217924.28333333, 133029.17666667, 143793.00666667, 306942.93333333,\n",
              "       259102.82333333, 124444.41666667, 147481.07      , 161590.01666667,\n",
              "       107695.79666667, 370721.06333333, 139684.95666667, 266500.39666667,\n",
              "       232516.48      , 254851.94      , 145837.31      , 138339.93666667,\n",
              "       120793.12333333, 229877.77666667, 317964.99333333, 111523.24      ,\n",
              "        76323.42333333, 163195.53666667, 207318.92      , 283384.26666667,\n",
              "       125380.42      , 140367.90666667, 212282.47666667, 181381.45333333,\n",
              "       112760.54666667, 161601.20666667, 123029.77666667, 265869.84333333,\n",
              "       323283.81      , 331101.27333333, 206468.7       , 150252.5       ,\n",
              "       244736.37      , 277586.38666667, 159547.7       , 301941.50333333,\n",
              "       239262.46333333, 253736.48      , 242442.70333333, 169786.93333333,\n",
              "       128847.51666667, 274067.71666667, 135603.90333333])"
            ]
          },
          "metadata": {},
          "execution_count": 67
        }
      ]
    }
  ]
}